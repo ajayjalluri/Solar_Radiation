{
 "cells": [
  {
   "cell_type": "code",
   "execution_count": 1,
   "id": "81625d27",
   "metadata": {
    "executionInfo": {
     "elapsed": 317,
     "status": "ok",
     "timestamp": 1637435213135,
     "user": {
      "displayName": "Tharun Gonuguntla",
      "photoUrl": "https://lh3.googleusercontent.com/a/default-user=s64",
      "userId": "04399532287397959873"
     },
     "user_tz": 360
    },
    "id": "81625d27"
   },
   "outputs": [],
   "source": [
    "import pandas as pd"
   ]
  },
  {
   "cell_type": "code",
   "execution_count": 2,
   "id": "5c2fdc0f",
   "metadata": {
    "colab": {
     "base_uri": "https://localhost:8080/",
     "height": 380
    },
    "executionInfo": {
     "elapsed": 800,
     "status": "error",
     "timestamp": 1637435214281,
     "user": {
      "displayName": "Tharun Gonuguntla",
      "photoUrl": "https://lh3.googleusercontent.com/a/default-user=s64",
      "userId": "04399532287397959873"
     },
     "user_tz": 360
    },
    "id": "5c2fdc0f",
    "outputId": "4a549a60-424f-44fe-eda7-08be7ae1c857"
   },
   "outputs": [],
   "source": [
    "df = pd.read_csv(\"SolarPrediction.csv\")"
   ]
  },
  {
   "cell_type": "code",
   "execution_count": 3,
   "id": "23bdd1a7",
   "metadata": {
    "executionInfo": {
     "elapsed": 788,
     "status": "aborted",
     "timestamp": 1637435214271,
     "user": {
      "displayName": "Tharun Gonuguntla",
      "photoUrl": "https://lh3.googleusercontent.com/a/default-user=s64",
      "userId": "04399532287397959873"
     },
     "user_tz": 360
    },
    "id": "23bdd1a7"
   },
   "outputs": [
    {
     "data": {
      "text/html": [
       "<div>\n",
       "<style scoped>\n",
       "    .dataframe tbody tr th:only-of-type {\n",
       "        vertical-align: middle;\n",
       "    }\n",
       "\n",
       "    .dataframe tbody tr th {\n",
       "        vertical-align: top;\n",
       "    }\n",
       "\n",
       "    .dataframe thead th {\n",
       "        text-align: right;\n",
       "    }\n",
       "</style>\n",
       "<table border=\"1\" class=\"dataframe\">\n",
       "  <thead>\n",
       "    <tr style=\"text-align: right;\">\n",
       "      <th></th>\n",
       "      <th>UNIXTime</th>\n",
       "      <th>Data</th>\n",
       "      <th>Time</th>\n",
       "      <th>Radiation</th>\n",
       "      <th>Temperature</th>\n",
       "      <th>Pressure</th>\n",
       "      <th>Humidity</th>\n",
       "      <th>WindDirection(Degrees)</th>\n",
       "      <th>Speed</th>\n",
       "      <th>TimeSunRise</th>\n",
       "      <th>TimeSunSet</th>\n",
       "    </tr>\n",
       "  </thead>\n",
       "  <tbody>\n",
       "    <tr>\n",
       "      <th>0</th>\n",
       "      <td>1475229326</td>\n",
       "      <td>9/29/2016 12:00:00 AM</td>\n",
       "      <td>23:55:26</td>\n",
       "      <td>1.21</td>\n",
       "      <td>48</td>\n",
       "      <td>30.46</td>\n",
       "      <td>59</td>\n",
       "      <td>177.39</td>\n",
       "      <td>5.62</td>\n",
       "      <td>06:13:00</td>\n",
       "      <td>18:13:00</td>\n",
       "    </tr>\n",
       "    <tr>\n",
       "      <th>1</th>\n",
       "      <td>1475229023</td>\n",
       "      <td>9/29/2016 12:00:00 AM</td>\n",
       "      <td>23:50:23</td>\n",
       "      <td>1.21</td>\n",
       "      <td>48</td>\n",
       "      <td>30.46</td>\n",
       "      <td>58</td>\n",
       "      <td>176.78</td>\n",
       "      <td>3.37</td>\n",
       "      <td>06:13:00</td>\n",
       "      <td>18:13:00</td>\n",
       "    </tr>\n",
       "    <tr>\n",
       "      <th>2</th>\n",
       "      <td>1475228726</td>\n",
       "      <td>9/29/2016 12:00:00 AM</td>\n",
       "      <td>23:45:26</td>\n",
       "      <td>1.23</td>\n",
       "      <td>48</td>\n",
       "      <td>30.46</td>\n",
       "      <td>57</td>\n",
       "      <td>158.75</td>\n",
       "      <td>3.37</td>\n",
       "      <td>06:13:00</td>\n",
       "      <td>18:13:00</td>\n",
       "    </tr>\n",
       "    <tr>\n",
       "      <th>3</th>\n",
       "      <td>1475228421</td>\n",
       "      <td>9/29/2016 12:00:00 AM</td>\n",
       "      <td>23:40:21</td>\n",
       "      <td>1.21</td>\n",
       "      <td>48</td>\n",
       "      <td>30.46</td>\n",
       "      <td>60</td>\n",
       "      <td>137.71</td>\n",
       "      <td>3.37</td>\n",
       "      <td>06:13:00</td>\n",
       "      <td>18:13:00</td>\n",
       "    </tr>\n",
       "    <tr>\n",
       "      <th>4</th>\n",
       "      <td>1475228124</td>\n",
       "      <td>9/29/2016 12:00:00 AM</td>\n",
       "      <td>23:35:24</td>\n",
       "      <td>1.17</td>\n",
       "      <td>48</td>\n",
       "      <td>30.46</td>\n",
       "      <td>62</td>\n",
       "      <td>104.95</td>\n",
       "      <td>5.62</td>\n",
       "      <td>06:13:00</td>\n",
       "      <td>18:13:00</td>\n",
       "    </tr>\n",
       "    <tr>\n",
       "      <th>...</th>\n",
       "      <td>...</td>\n",
       "      <td>...</td>\n",
       "      <td>...</td>\n",
       "      <td>...</td>\n",
       "      <td>...</td>\n",
       "      <td>...</td>\n",
       "      <td>...</td>\n",
       "      <td>...</td>\n",
       "      <td>...</td>\n",
       "      <td>...</td>\n",
       "      <td>...</td>\n",
       "    </tr>\n",
       "    <tr>\n",
       "      <th>32681</th>\n",
       "      <td>1480587604</td>\n",
       "      <td>12/1/2016 12:00:00 AM</td>\n",
       "      <td>00:20:04</td>\n",
       "      <td>1.22</td>\n",
       "      <td>44</td>\n",
       "      <td>30.43</td>\n",
       "      <td>102</td>\n",
       "      <td>145.42</td>\n",
       "      <td>6.75</td>\n",
       "      <td>06:41:00</td>\n",
       "      <td>17:42:00</td>\n",
       "    </tr>\n",
       "    <tr>\n",
       "      <th>32682</th>\n",
       "      <td>1480587301</td>\n",
       "      <td>12/1/2016 12:00:00 AM</td>\n",
       "      <td>00:15:01</td>\n",
       "      <td>1.17</td>\n",
       "      <td>44</td>\n",
       "      <td>30.42</td>\n",
       "      <td>102</td>\n",
       "      <td>117.78</td>\n",
       "      <td>6.75</td>\n",
       "      <td>06:41:00</td>\n",
       "      <td>17:42:00</td>\n",
       "    </tr>\n",
       "    <tr>\n",
       "      <th>32683</th>\n",
       "      <td>1480587001</td>\n",
       "      <td>12/1/2016 12:00:00 AM</td>\n",
       "      <td>00:10:01</td>\n",
       "      <td>1.20</td>\n",
       "      <td>44</td>\n",
       "      <td>30.42</td>\n",
       "      <td>102</td>\n",
       "      <td>145.19</td>\n",
       "      <td>9.00</td>\n",
       "      <td>06:41:00</td>\n",
       "      <td>17:42:00</td>\n",
       "    </tr>\n",
       "    <tr>\n",
       "      <th>32684</th>\n",
       "      <td>1480586702</td>\n",
       "      <td>12/1/2016 12:00:00 AM</td>\n",
       "      <td>00:05:02</td>\n",
       "      <td>1.23</td>\n",
       "      <td>44</td>\n",
       "      <td>30.42</td>\n",
       "      <td>101</td>\n",
       "      <td>164.19</td>\n",
       "      <td>7.87</td>\n",
       "      <td>06:41:00</td>\n",
       "      <td>17:42:00</td>\n",
       "    </tr>\n",
       "    <tr>\n",
       "      <th>32685</th>\n",
       "      <td>1480586402</td>\n",
       "      <td>12/1/2016 12:00:00 AM</td>\n",
       "      <td>00:00:02</td>\n",
       "      <td>1.20</td>\n",
       "      <td>44</td>\n",
       "      <td>30.43</td>\n",
       "      <td>101</td>\n",
       "      <td>83.59</td>\n",
       "      <td>3.37</td>\n",
       "      <td>06:41:00</td>\n",
       "      <td>17:42:00</td>\n",
       "    </tr>\n",
       "  </tbody>\n",
       "</table>\n",
       "<p>32686 rows × 11 columns</p>\n",
       "</div>"
      ],
      "text/plain": [
       "         UNIXTime                   Data      Time  Radiation  Temperature  \\\n",
       "0      1475229326  9/29/2016 12:00:00 AM  23:55:26       1.21           48   \n",
       "1      1475229023  9/29/2016 12:00:00 AM  23:50:23       1.21           48   \n",
       "2      1475228726  9/29/2016 12:00:00 AM  23:45:26       1.23           48   \n",
       "3      1475228421  9/29/2016 12:00:00 AM  23:40:21       1.21           48   \n",
       "4      1475228124  9/29/2016 12:00:00 AM  23:35:24       1.17           48   \n",
       "...           ...                    ...       ...        ...          ...   \n",
       "32681  1480587604  12/1/2016 12:00:00 AM  00:20:04       1.22           44   \n",
       "32682  1480587301  12/1/2016 12:00:00 AM  00:15:01       1.17           44   \n",
       "32683  1480587001  12/1/2016 12:00:00 AM  00:10:01       1.20           44   \n",
       "32684  1480586702  12/1/2016 12:00:00 AM  00:05:02       1.23           44   \n",
       "32685  1480586402  12/1/2016 12:00:00 AM  00:00:02       1.20           44   \n",
       "\n",
       "       Pressure  Humidity  WindDirection(Degrees)  Speed TimeSunRise  \\\n",
       "0         30.46        59                  177.39   5.62    06:13:00   \n",
       "1         30.46        58                  176.78   3.37    06:13:00   \n",
       "2         30.46        57                  158.75   3.37    06:13:00   \n",
       "3         30.46        60                  137.71   3.37    06:13:00   \n",
       "4         30.46        62                  104.95   5.62    06:13:00   \n",
       "...         ...       ...                     ...    ...         ...   \n",
       "32681     30.43       102                  145.42   6.75    06:41:00   \n",
       "32682     30.42       102                  117.78   6.75    06:41:00   \n",
       "32683     30.42       102                  145.19   9.00    06:41:00   \n",
       "32684     30.42       101                  164.19   7.87    06:41:00   \n",
       "32685     30.43       101                   83.59   3.37    06:41:00   \n",
       "\n",
       "      TimeSunSet  \n",
       "0       18:13:00  \n",
       "1       18:13:00  \n",
       "2       18:13:00  \n",
       "3       18:13:00  \n",
       "4       18:13:00  \n",
       "...          ...  \n",
       "32681   17:42:00  \n",
       "32682   17:42:00  \n",
       "32683   17:42:00  \n",
       "32684   17:42:00  \n",
       "32685   17:42:00  \n",
       "\n",
       "[32686 rows x 11 columns]"
      ]
     },
     "execution_count": 3,
     "metadata": {},
     "output_type": "execute_result"
    }
   ],
   "source": [
    "df"
   ]
  },
  {
   "cell_type": "code",
   "execution_count": 4,
   "id": "ca647126",
   "metadata": {
    "executionInfo": {
     "elapsed": 788,
     "status": "aborted",
     "timestamp": 1637435214271,
     "user": {
      "displayName": "Tharun Gonuguntla",
      "photoUrl": "https://lh3.googleusercontent.com/a/default-user=s64",
      "userId": "04399532287397959873"
     },
     "user_tz": 360
    },
    "id": "ca647126"
   },
   "outputs": [
    {
     "data": {
      "text/plain": [
       "UNIXTime                  0\n",
       "Data                      0\n",
       "Time                      0\n",
       "Radiation                 0\n",
       "Temperature               0\n",
       "Pressure                  0\n",
       "Humidity                  0\n",
       "WindDirection(Degrees)    0\n",
       "Speed                     0\n",
       "TimeSunRise               0\n",
       "TimeSunSet                0\n",
       "dtype: int64"
      ]
     },
     "execution_count": 4,
     "metadata": {},
     "output_type": "execute_result"
    }
   ],
   "source": [
    "df.isnull().sum()"
   ]
  },
  {
   "cell_type": "code",
   "execution_count": 5,
   "id": "b1f571b9",
   "metadata": {},
   "outputs": [
    {
     "data": {
      "text/plain": [
       "Index(['UNIXTime', 'Data', 'Time', 'Radiation', 'Temperature', 'Pressure',\n",
       "       'Humidity', 'WindDirection(Degrees)', 'Speed', 'TimeSunRise',\n",
       "       'TimeSunSet'],\n",
       "      dtype='object')"
      ]
     },
     "execution_count": 5,
     "metadata": {},
     "output_type": "execute_result"
    }
   ],
   "source": [
    "df.columns"
   ]
  },
  {
   "cell_type": "code",
   "execution_count": 6,
   "id": "fca69bcc",
   "metadata": {
    "executionInfo": {
     "elapsed": 12,
     "status": "aborted",
     "timestamp": 1637435214273,
     "user": {
      "displayName": "Tharun Gonuguntla",
      "photoUrl": "https://lh3.googleusercontent.com/a/default-user=s64",
      "userId": "04399532287397959873"
     },
     "user_tz": 360
    },
    "id": "fca69bcc"
   },
   "outputs": [],
   "source": [
    "df = df.drop(['UNIXTime', 'Data', 'Time','TimeSunRise','TimeSunSet'],axis =1)"
   ]
  },
  {
   "cell_type": "code",
   "execution_count": 7,
   "id": "dcfdbabb",
   "metadata": {},
   "outputs": [
    {
     "data": {
      "text/html": [
       "<div>\n",
       "<style scoped>\n",
       "    .dataframe tbody tr th:only-of-type {\n",
       "        vertical-align: middle;\n",
       "    }\n",
       "\n",
       "    .dataframe tbody tr th {\n",
       "        vertical-align: top;\n",
       "    }\n",
       "\n",
       "    .dataframe thead th {\n",
       "        text-align: right;\n",
       "    }\n",
       "</style>\n",
       "<table border=\"1\" class=\"dataframe\">\n",
       "  <thead>\n",
       "    <tr style=\"text-align: right;\">\n",
       "      <th></th>\n",
       "      <th>Radiation</th>\n",
       "      <th>Temperature</th>\n",
       "      <th>Pressure</th>\n",
       "      <th>Humidity</th>\n",
       "      <th>WindDirection(Degrees)</th>\n",
       "      <th>Speed</th>\n",
       "    </tr>\n",
       "  </thead>\n",
       "  <tbody>\n",
       "    <tr>\n",
       "      <th>0</th>\n",
       "      <td>1.21</td>\n",
       "      <td>48</td>\n",
       "      <td>30.46</td>\n",
       "      <td>59</td>\n",
       "      <td>177.39</td>\n",
       "      <td>5.62</td>\n",
       "    </tr>\n",
       "    <tr>\n",
       "      <th>1</th>\n",
       "      <td>1.21</td>\n",
       "      <td>48</td>\n",
       "      <td>30.46</td>\n",
       "      <td>58</td>\n",
       "      <td>176.78</td>\n",
       "      <td>3.37</td>\n",
       "    </tr>\n",
       "    <tr>\n",
       "      <th>2</th>\n",
       "      <td>1.23</td>\n",
       "      <td>48</td>\n",
       "      <td>30.46</td>\n",
       "      <td>57</td>\n",
       "      <td>158.75</td>\n",
       "      <td>3.37</td>\n",
       "    </tr>\n",
       "    <tr>\n",
       "      <th>3</th>\n",
       "      <td>1.21</td>\n",
       "      <td>48</td>\n",
       "      <td>30.46</td>\n",
       "      <td>60</td>\n",
       "      <td>137.71</td>\n",
       "      <td>3.37</td>\n",
       "    </tr>\n",
       "    <tr>\n",
       "      <th>4</th>\n",
       "      <td>1.17</td>\n",
       "      <td>48</td>\n",
       "      <td>30.46</td>\n",
       "      <td>62</td>\n",
       "      <td>104.95</td>\n",
       "      <td>5.62</td>\n",
       "    </tr>\n",
       "    <tr>\n",
       "      <th>...</th>\n",
       "      <td>...</td>\n",
       "      <td>...</td>\n",
       "      <td>...</td>\n",
       "      <td>...</td>\n",
       "      <td>...</td>\n",
       "      <td>...</td>\n",
       "    </tr>\n",
       "    <tr>\n",
       "      <th>32681</th>\n",
       "      <td>1.22</td>\n",
       "      <td>44</td>\n",
       "      <td>30.43</td>\n",
       "      <td>102</td>\n",
       "      <td>145.42</td>\n",
       "      <td>6.75</td>\n",
       "    </tr>\n",
       "    <tr>\n",
       "      <th>32682</th>\n",
       "      <td>1.17</td>\n",
       "      <td>44</td>\n",
       "      <td>30.42</td>\n",
       "      <td>102</td>\n",
       "      <td>117.78</td>\n",
       "      <td>6.75</td>\n",
       "    </tr>\n",
       "    <tr>\n",
       "      <th>32683</th>\n",
       "      <td>1.20</td>\n",
       "      <td>44</td>\n",
       "      <td>30.42</td>\n",
       "      <td>102</td>\n",
       "      <td>145.19</td>\n",
       "      <td>9.00</td>\n",
       "    </tr>\n",
       "    <tr>\n",
       "      <th>32684</th>\n",
       "      <td>1.23</td>\n",
       "      <td>44</td>\n",
       "      <td>30.42</td>\n",
       "      <td>101</td>\n",
       "      <td>164.19</td>\n",
       "      <td>7.87</td>\n",
       "    </tr>\n",
       "    <tr>\n",
       "      <th>32685</th>\n",
       "      <td>1.20</td>\n",
       "      <td>44</td>\n",
       "      <td>30.43</td>\n",
       "      <td>101</td>\n",
       "      <td>83.59</td>\n",
       "      <td>3.37</td>\n",
       "    </tr>\n",
       "  </tbody>\n",
       "</table>\n",
       "<p>32686 rows × 6 columns</p>\n",
       "</div>"
      ],
      "text/plain": [
       "       Radiation  Temperature  Pressure  Humidity  WindDirection(Degrees)  \\\n",
       "0           1.21           48     30.46        59                  177.39   \n",
       "1           1.21           48     30.46        58                  176.78   \n",
       "2           1.23           48     30.46        57                  158.75   \n",
       "3           1.21           48     30.46        60                  137.71   \n",
       "4           1.17           48     30.46        62                  104.95   \n",
       "...          ...          ...       ...       ...                     ...   \n",
       "32681       1.22           44     30.43       102                  145.42   \n",
       "32682       1.17           44     30.42       102                  117.78   \n",
       "32683       1.20           44     30.42       102                  145.19   \n",
       "32684       1.23           44     30.42       101                  164.19   \n",
       "32685       1.20           44     30.43       101                   83.59   \n",
       "\n",
       "       Speed  \n",
       "0       5.62  \n",
       "1       3.37  \n",
       "2       3.37  \n",
       "3       3.37  \n",
       "4       5.62  \n",
       "...      ...  \n",
       "32681   6.75  \n",
       "32682   6.75  \n",
       "32683   9.00  \n",
       "32684   7.87  \n",
       "32685   3.37  \n",
       "\n",
       "[32686 rows x 6 columns]"
      ]
     },
     "execution_count": 7,
     "metadata": {},
     "output_type": "execute_result"
    }
   ],
   "source": [
    "df"
   ]
  },
  {
   "cell_type": "code",
   "execution_count": 8,
   "id": "6ad3cc35",
   "metadata": {
    "executionInfo": {
     "elapsed": 11,
     "status": "aborted",
     "timestamp": 1637435214273,
     "user": {
      "displayName": "Tharun Gonuguntla",
      "photoUrl": "https://lh3.googleusercontent.com/a/default-user=s64",
      "userId": "04399532287397959873"
     },
     "user_tz": 360
    },
    "id": "6ad3cc35"
   },
   "outputs": [],
   "source": [
    "y = df[\"Radiation\"]\n",
    "\n",
    "X = df.drop([\"Radiation\"],axis=1)"
   ]
  },
  {
   "cell_type": "code",
   "execution_count": 9,
   "id": "91221087",
   "metadata": {},
   "outputs": [
    {
     "data": {
      "text/plain": [
       "Index(['Temperature', 'Pressure', 'Humidity', 'WindDirection(Degrees)',\n",
       "       'Speed'],\n",
       "      dtype='object')"
      ]
     },
     "execution_count": 9,
     "metadata": {},
     "output_type": "execute_result"
    }
   ],
   "source": [
    "X.columns"
   ]
  },
  {
   "cell_type": "code",
   "execution_count": 10,
   "id": "5687a1e9",
   "metadata": {
    "executionInfo": {
     "elapsed": 12,
     "status": "aborted",
     "timestamp": 1637435214274,
     "user": {
      "displayName": "Tharun Gonuguntla",
      "photoUrl": "https://lh3.googleusercontent.com/a/default-user=s64",
      "userId": "04399532287397959873"
     },
     "user_tz": 360
    },
    "id": "5687a1e9"
   },
   "outputs": [],
   "source": [
    "from sklearn.model_selection import train_test_split\n",
    "\n",
    "X_train, X_test, y_train, y_test = train_test_split(X,y,test_size=0.2,random_state=1)"
   ]
  },
  {
   "cell_type": "code",
   "execution_count": 11,
   "id": "c7dcd12e",
   "metadata": {
    "executionInfo": {
     "elapsed": 12,
     "status": "aborted",
     "timestamp": 1637435214274,
     "user": {
      "displayName": "Tharun Gonuguntla",
      "photoUrl": "https://lh3.googleusercontent.com/a/default-user=s64",
      "userId": "04399532287397959873"
     },
     "user_tz": 360
    },
    "id": "c7dcd12e"
   },
   "outputs": [
    {
     "name": "stdout",
     "output_type": "stream",
     "text": [
      "standardization done\n"
     ]
    }
   ],
   "source": [
    "from sklearn.preprocessing import StandardScaler\n",
    "scaler1 = StandardScaler()\n",
    "scaler1.fit(X_train.values)\n",
    "X_train  = scaler1.transform(X_train.values)\n",
    "\n",
    "scaler2 = StandardScaler()\n",
    "scaler2.fit(X_test.values)\n",
    "X_test = scaler2.transform(X_test.values)\n",
    "print(\"standardization done\")"
   ]
  },
  {
   "cell_type": "code",
   "execution_count": 12,
   "id": "970caff9",
   "metadata": {},
   "outputs": [],
   "source": [
    "import pickle\n",
    "with open('solar_std.pkl', 'wb') as handle:\n",
    "    pickle.dump(scaler1, handle)"
   ]
  },
  {
   "cell_type": "code",
   "execution_count": 13,
   "id": "78b33902",
   "metadata": {
    "executionInfo": {
     "elapsed": 12,
     "status": "aborted",
     "timestamp": 1637435214274,
     "user": {
      "displayName": "Tharun Gonuguntla",
      "photoUrl": "https://lh3.googleusercontent.com/a/default-user=s64",
      "userId": "04399532287397959873"
     },
     "user_tz": 360
    },
    "id": "78b33902"
   },
   "outputs": [],
   "source": [
    "from sklearn.metrics import mean_squared_error\n",
    "from sklearn.metrics import mean_absolute_error\n",
    "from sklearn.metrics import r2_score"
   ]
  },
  {
   "cell_type": "markdown",
   "id": "ff7e9c40",
   "metadata": {
    "id": "ff7e9c40"
   },
   "source": [
    "#### LINEAR REGRESSION"
   ]
  },
  {
   "cell_type": "code",
   "execution_count": 14,
   "id": "c32e052f",
   "metadata": {
    "executionInfo": {
     "elapsed": 13,
     "status": "aborted",
     "timestamp": 1637435214275,
     "user": {
      "displayName": "Tharun Gonuguntla",
      "photoUrl": "https://lh3.googleusercontent.com/a/default-user=s64",
      "userId": "04399532287397959873"
     },
     "user_tz": 360
    },
    "id": "c32e052f"
   },
   "outputs": [
    {
     "data": {
      "text/plain": [
       "LinearRegression()"
      ]
     },
     "execution_count": 14,
     "metadata": {},
     "output_type": "execute_result"
    }
   ],
   "source": [
    "from sklearn.model_selection import GridSearchCV\n",
    "from sklearn.linear_model import LinearRegression\n",
    "\n",
    "clf1 = LinearRegression()\n",
    "clf1.fit(X_train,y_train)\n"
   ]
  },
  {
   "cell_type": "markdown",
   "id": "0af431b0",
   "metadata": {
    "id": "0af431b0"
   },
   "source": [
    "### Test results"
   ]
  },
  {
   "cell_type": "code",
   "execution_count": 15,
   "id": "692116c0",
   "metadata": {
    "executionInfo": {
     "elapsed": 14,
     "status": "aborted",
     "timestamp": 1637435214276,
     "user": {
      "displayName": "Tharun Gonuguntla",
      "photoUrl": "https://lh3.googleusercontent.com/a/default-user=s64",
      "userId": "04399532287397959873"
     },
     "user_tz": 360
    },
    "id": "692116c0"
   },
   "outputs": [
    {
     "name": "stdout",
     "output_type": "stream",
     "text": [
      "Mean Squared Error :  43442.340200490566\n",
      "Root Mean Squared Error :  208.42826152057827\n",
      "Mean Absolute Error :  159.25435462849956\n",
      "Coefficient of determination 0.5540205972685631\n"
     ]
    }
   ],
   "source": [
    "y_pred1 = clf1.predict(X_test)\n",
    "mse1 = mean_squared_error(y_test,y_pred1)\n",
    "rmse1 = mean_squared_error(y_test,y_pred1,squared = False)\n",
    "mae1 = mean_absolute_error(y_test,y_pred1)\n",
    "r2_1 = r2_score(y_test,y_pred1)\n",
    "\n",
    "print(\"Mean Squared Error : \",mse1)\n",
    "print(\"Root Mean Squared Error : \",rmse1)\n",
    "print(\"Mean Absolute Error : \",mae1)\n",
    "print(\"Coefficient of determination\",r2_1)"
   ]
  },
  {
   "cell_type": "code",
   "execution_count": 16,
   "id": "6d499954",
   "metadata": {
    "executionInfo": {
     "elapsed": 13,
     "status": "aborted",
     "timestamp": 1637435214276,
     "user": {
      "displayName": "Tharun Gonuguntla",
      "photoUrl": "https://lh3.googleusercontent.com/a/default-user=s64",
      "userId": "04399532287397959873"
     },
     "user_tz": 360
    },
    "id": "6d499954"
   },
   "outputs": [
    {
     "data": {
      "text/plain": [
       "dict_keys(['explained_variance', 'r2', 'max_error', 'neg_median_absolute_error', 'neg_mean_absolute_error', 'neg_mean_absolute_percentage_error', 'neg_mean_squared_error', 'neg_mean_squared_log_error', 'neg_root_mean_squared_error', 'neg_mean_poisson_deviance', 'neg_mean_gamma_deviance', 'accuracy', 'top_k_accuracy', 'roc_auc', 'roc_auc_ovr', 'roc_auc_ovo', 'roc_auc_ovr_weighted', 'roc_auc_ovo_weighted', 'balanced_accuracy', 'average_precision', 'neg_log_loss', 'neg_brier_score', 'adjusted_rand_score', 'rand_score', 'homogeneity_score', 'completeness_score', 'v_measure_score', 'mutual_info_score', 'adjusted_mutual_info_score', 'normalized_mutual_info_score', 'fowlkes_mallows_score', 'precision', 'precision_macro', 'precision_micro', 'precision_samples', 'precision_weighted', 'recall', 'recall_macro', 'recall_micro', 'recall_samples', 'recall_weighted', 'f1', 'f1_macro', 'f1_micro', 'f1_samples', 'f1_weighted', 'jaccard', 'jaccard_macro', 'jaccard_micro', 'jaccard_samples', 'jaccard_weighted'])"
      ]
     },
     "execution_count": 16,
     "metadata": {},
     "output_type": "execute_result"
    }
   ],
   "source": [
    "import sklearn\n",
    "sklearn.metrics.SCORERS.keys()"
   ]
  },
  {
   "cell_type": "markdown",
   "id": "e1f5409b",
   "metadata": {
    "id": "e1f5409b"
   },
   "source": [
    "### Decision tree Regressor"
   ]
  },
  {
   "cell_type": "code",
   "execution_count": 17,
   "id": "4e183a15",
   "metadata": {
    "executionInfo": {
     "elapsed": 14,
     "status": "aborted",
     "timestamp": 1637435214277,
     "user": {
      "displayName": "Tharun Gonuguntla",
      "photoUrl": "https://lh3.googleusercontent.com/a/default-user=s64",
      "userId": "04399532287397959873"
     },
     "user_tz": 360
    },
    "id": "4e183a15"
   },
   "outputs": [
    {
     "name": "stdout",
     "output_type": "stream",
     "text": [
      "{'max_depth': 5, 'min_samples_split': 2}\n",
      "Coefficient of determination : 0.6536233635501265\n"
     ]
    }
   ],
   "source": [
    "from sklearn.tree import DecisionTreeRegressor\n",
    "from scipy.stats import randint\n",
    "from sklearn.model_selection import GridSearchCV\n",
    "param_grid={\n",
    "  'max_depth':[3, 5, None],\n",
    "  'min_samples_split':[1.0,2,3,4,5],\n",
    "  }\n",
    "\n",
    "clf = DecisionTreeRegressor()\n",
    "grid = GridSearchCV(clf, param_grid, cv=3, scoring='r2')\n",
    "grid.fit(X_train,y_train)\n",
    "print(grid.best_params_)\n",
    "print(\"Coefficient of determination : \"+ str(grid.best_score_))"
   ]
  },
  {
   "cell_type": "code",
   "execution_count": 18,
   "id": "acd6b359",
   "metadata": {
    "executionInfo": {
     "elapsed": 14,
     "status": "aborted",
     "timestamp": 1637435214277,
     "user": {
      "displayName": "Tharun Gonuguntla",
      "photoUrl": "https://lh3.googleusercontent.com/a/default-user=s64",
      "userId": "04399532287397959873"
     },
     "user_tz": 360
    },
    "id": "acd6b359"
   },
   "outputs": [],
   "source": [
    "d = grid.best_params_\n",
    "a = d[\"max_depth\"]\n",
    "b  = d[\"min_samples_split\"]"
   ]
  },
  {
   "cell_type": "code",
   "execution_count": 19,
   "id": "d993baed",
   "metadata": {
    "executionInfo": {
     "elapsed": 14,
     "status": "aborted",
     "timestamp": 1637435214277,
     "user": {
      "displayName": "Tharun Gonuguntla",
      "photoUrl": "https://lh3.googleusercontent.com/a/default-user=s64",
      "userId": "04399532287397959873"
     },
     "user_tz": 360
    },
    "id": "d993baed"
   },
   "outputs": [],
   "source": [
    "dtc =   DecisionTreeRegressor(max_depth= a, min_samples_split= b)\n",
    "dtc.fit(X_train,y_train)\n",
    "y_pred2 = dtc.predict(X_test) "
   ]
  },
  {
   "cell_type": "code",
   "execution_count": 20,
   "id": "43b71f38",
   "metadata": {
    "executionInfo": {
     "elapsed": 14,
     "status": "aborted",
     "timestamp": 1637435214277,
     "user": {
      "displayName": "Tharun Gonuguntla",
      "photoUrl": "https://lh3.googleusercontent.com/a/default-user=s64",
      "userId": "04399532287397959873"
     },
     "user_tz": 360
    },
    "id": "43b71f38"
   },
   "outputs": [
    {
     "name": "stdout",
     "output_type": "stream",
     "text": [
      "Mean Squared Error :  33567.32335272188\n",
      "Root Mean Squared Error :  183.21387325397026\n",
      "Mean Absolute Error :  114.4251550141691\n",
      "Coefficient of determination 0.6553975971126236\n"
     ]
    }
   ],
   "source": [
    "y_pred2 = dtc.predict(X_test)\n",
    "mse2 = mean_squared_error(y_test,y_pred2)\n",
    "rmse2 = mean_squared_error(y_test,y_pred2,squared = False)\n",
    "mae2 = mean_absolute_error(y_test,y_pred2)\n",
    "r2_2 = r2_score(y_test,y_pred2)\n",
    "\n",
    "print(\"Mean Squared Error : \",mse2)\n",
    "print(\"Root Mean Squared Error : \",rmse2)\n",
    "print(\"Mean Absolute Error : \",mae2)\n",
    "print(\"Coefficient of determination\",r2_2)"
   ]
  },
  {
   "cell_type": "markdown",
   "id": "1bc9bb5f",
   "metadata": {
    "id": "1bc9bb5f"
   },
   "source": [
    "### Random Forest Regressor"
   ]
  },
  {
   "cell_type": "code",
   "execution_count": 21,
   "id": "9c7cf58b",
   "metadata": {
    "executionInfo": {
     "elapsed": 15,
     "status": "aborted",
     "timestamp": 1637435214278,
     "user": {
      "displayName": "Tharun Gonuguntla",
      "photoUrl": "https://lh3.googleusercontent.com/a/default-user=s64",
      "userId": "04399532287397959873"
     },
     "user_tz": 360
    },
    "id": "9c7cf58b"
   },
   "outputs": [
    {
     "name": "stdout",
     "output_type": "stream",
     "text": [
      "{'max_depth': 11, 'n_estimators': 10}\n",
      "Coefficient of determination : 0.7158224278091216\n"
     ]
    }
   ],
   "source": [
    "import numpy as np\n",
    "from sklearn.model_selection import GridSearchCV\n",
    "from sklearn.ensemble import RandomForestRegressor\n",
    "# Define the hyperparameter configuration space\n",
    "rf_params = {\n",
    "    \n",
    "    'n_estimators': np.arange(10,20,30),\n",
    "\n",
    "    'max_depth': np.arange(3,15,2),\n",
    "    \n",
    "    \n",
    "}\n",
    "clf = RandomForestRegressor(random_state=0)\n",
    "grid = GridSearchCV(clf, rf_params, cv=3, scoring='r2')\n",
    "grid.fit(X_train,y_train)\n",
    "print(grid.best_params_)\n",
    "print(\"Coefficient of determination : \"+ str(grid.best_score_))"
   ]
  },
  {
   "cell_type": "code",
   "execution_count": 22,
   "id": "e8faf55c",
   "metadata": {
    "executionInfo": {
     "elapsed": 15,
     "status": "aborted",
     "timestamp": 1637435214278,
     "user": {
      "displayName": "Tharun Gonuguntla",
      "photoUrl": "https://lh3.googleusercontent.com/a/default-user=s64",
      "userId": "04399532287397959873"
     },
     "user_tz": 360
    },
    "id": "e8faf55c"
   },
   "outputs": [],
   "source": [
    "d = grid.best_params_\n",
    "a = d[\"n_estimators\"]\n",
    "b  = d[\"max_depth\"]\n"
   ]
  },
  {
   "cell_type": "code",
   "execution_count": 23,
   "id": "c498091f",
   "metadata": {
    "executionInfo": {
     "elapsed": 15,
     "status": "aborted",
     "timestamp": 1637435214278,
     "user": {
      "displayName": "Tharun Gonuguntla",
      "photoUrl": "https://lh3.googleusercontent.com/a/default-user=s64",
      "userId": "04399532287397959873"
     },
     "user_tz": 360
    },
    "id": "c498091f"
   },
   "outputs": [],
   "source": [
    "rfc=RandomForestRegressor( max_depth = b, n_estimators =a)\n",
    "rfc.fit(X_train,y_train)\n",
    "y_pred3 = rfc.predict(X_test)"
   ]
  },
  {
   "cell_type": "code",
   "execution_count": 24,
   "id": "b6e74681",
   "metadata": {
    "executionInfo": {
     "elapsed": 14,
     "status": "aborted",
     "timestamp": 1637435214278,
     "user": {
      "displayName": "Tharun Gonuguntla",
      "photoUrl": "https://lh3.googleusercontent.com/a/default-user=s64",
      "userId": "04399532287397959873"
     },
     "user_tz": 360
    },
    "id": "b6e74681"
   },
   "outputs": [
    {
     "name": "stdout",
     "output_type": "stream",
     "text": [
      "Mean Squared Error :  27669.179103888004\n",
      "Root Mean Squared Error :  166.34055159187133\n",
      "Mean Absolute Error :  97.77215093979126\n",
      "Coefficient of determination 0.6553975971126236\n"
     ]
    }
   ],
   "source": [
    "y_pred3 = rfc.predict(X_test)\n",
    "mse3 = mean_squared_error(y_test,y_pred3)\n",
    "rmse3 = mean_squared_error(y_test,y_pred3,squared = False)\n",
    "mae3 = mean_absolute_error(y_test,y_pred3)\n",
    "r2_3 = r2_score(y_test,y_pred2)\n",
    "\n",
    "print(\"Mean Squared Error : \",mse3)\n",
    "print(\"Root Mean Squared Error : \",rmse3)\n",
    "print(\"Mean Absolute Error : \",mae3)\n",
    "print(\"Coefficient of determination\",r2_3)"
   ]
  },
  {
   "cell_type": "markdown",
   "id": "d40dae9a",
   "metadata": {
    "id": "d40dae9a"
   },
   "source": [
    "## KNN regressor"
   ]
  },
  {
   "cell_type": "code",
   "execution_count": 25,
   "id": "f116e68a",
   "metadata": {
    "executionInfo": {
     "elapsed": 15,
     "status": "aborted",
     "timestamp": 1637435214279,
     "user": {
      "displayName": "Tharun Gonuguntla",
      "photoUrl": "https://lh3.googleusercontent.com/a/default-user=s64",
      "userId": "04399532287397959873"
     },
     "user_tz": 360
    },
    "id": "f116e68a"
   },
   "outputs": [
    {
     "name": "stdout",
     "output_type": "stream",
     "text": [
      "{'n_neighbors': 10}\n",
      "Coefficient of determination :0.7083979472350762\n"
     ]
    }
   ],
   "source": [
    "param_grid={\n",
    "  \"n_neighbors\":[3,4,5,6,7,8,9,10],\n",
    " }\n",
    "from sklearn.neighbors import KNeighborsRegressor\n",
    "\n",
    "clf = KNeighborsRegressor()\n",
    "grid = GridSearchCV(clf, param_grid, cv=3, scoring='r2')\n",
    "grid.fit(X_train,y_train)\n",
    "print(grid.best_params_)\n",
    "print(\"Coefficient of determination :\"+ str(grid.best_score_))"
   ]
  },
  {
   "cell_type": "code",
   "execution_count": 26,
   "id": "6937893b",
   "metadata": {
    "executionInfo": {
     "elapsed": 14,
     "status": "aborted",
     "timestamp": 1637435214279,
     "user": {
      "displayName": "Tharun Gonuguntla",
      "photoUrl": "https://lh3.googleusercontent.com/a/default-user=s64",
      "userId": "04399532287397959873"
     },
     "user_tz": 360
    },
    "id": "6937893b"
   },
   "outputs": [],
   "source": [
    "knn=KNeighborsRegressor(n_neighbors=grid.best_params_[\"n_neighbors\"])\n",
    "knn.fit(X_train,y_train)\n",
    "y_pred4 = knn.predict(X_test)"
   ]
  },
  {
   "cell_type": "code",
   "execution_count": 27,
   "id": "99c8aace",
   "metadata": {
    "executionInfo": {
     "elapsed": 14,
     "status": "aborted",
     "timestamp": 1637435214279,
     "user": {
      "displayName": "Tharun Gonuguntla",
      "photoUrl": "https://lh3.googleusercontent.com/a/default-user=s64",
      "userId": "04399532287397959873"
     },
     "user_tz": 360
    },
    "id": "99c8aace"
   },
   "outputs": [
    {
     "name": "stdout",
     "output_type": "stream",
     "text": [
      "Mean Squared Error :  27669.179103888004\n",
      "Root Mean Squared Error :  166.34055159187133\n",
      "Mean Absolute Error :  97.77215093979126\n",
      "Coefficient of determination 0.7159479918929004\n"
     ]
    }
   ],
   "source": [
    "y_pred4 = rfc.predict(X_test)\n",
    "mse4 = mean_squared_error(y_test,y_pred4)\n",
    "rmse4 = mean_squared_error(y_test,y_pred4,squared = False)\n",
    "mae4 = mean_absolute_error(y_test,y_pred4)\n",
    "r2_4 = r2_score(y_test,y_pred4)\n",
    "\n",
    "print(\"Mean Squared Error : \",mse4)\n",
    "print(\"Root Mean Squared Error : \",rmse4)\n",
    "print(\"Mean Absolute Error : \",mae4)\n",
    "print(\"Coefficient of determination\",r2_4)"
   ]
  },
  {
   "cell_type": "code",
   "execution_count": 28,
   "id": "abe5cd8f",
   "metadata": {},
   "outputs": [],
   "source": [
    "import pickle\n",
    "with open('solar_knn.pkl', 'wb') as handle:\n",
    "    pickle.dump(knn, handle)"
   ]
  },
  {
   "cell_type": "code",
   "execution_count": 29,
   "id": "890140da",
   "metadata": {},
   "outputs": [
    {
     "data": {
      "text/html": [
       "<div>\n",
       "<style scoped>\n",
       "    .dataframe tbody tr th:only-of-type {\n",
       "        vertical-align: middle;\n",
       "    }\n",
       "\n",
       "    .dataframe tbody tr th {\n",
       "        vertical-align: top;\n",
       "    }\n",
       "\n",
       "    .dataframe thead th {\n",
       "        text-align: right;\n",
       "    }\n",
       "</style>\n",
       "<table border=\"1\" class=\"dataframe\">\n",
       "  <thead>\n",
       "    <tr style=\"text-align: right;\">\n",
       "      <th></th>\n",
       "      <th>Radiation</th>\n",
       "      <th>Temperature</th>\n",
       "      <th>Pressure</th>\n",
       "      <th>Humidity</th>\n",
       "      <th>WindDirection(Degrees)</th>\n",
       "      <th>Speed</th>\n",
       "    </tr>\n",
       "  </thead>\n",
       "  <tbody>\n",
       "    <tr>\n",
       "      <th>0</th>\n",
       "      <td>1.21</td>\n",
       "      <td>48</td>\n",
       "      <td>30.46</td>\n",
       "      <td>59</td>\n",
       "      <td>177.39</td>\n",
       "      <td>5.62</td>\n",
       "    </tr>\n",
       "    <tr>\n",
       "      <th>1</th>\n",
       "      <td>1.21</td>\n",
       "      <td>48</td>\n",
       "      <td>30.46</td>\n",
       "      <td>58</td>\n",
       "      <td>176.78</td>\n",
       "      <td>3.37</td>\n",
       "    </tr>\n",
       "    <tr>\n",
       "      <th>2</th>\n",
       "      <td>1.23</td>\n",
       "      <td>48</td>\n",
       "      <td>30.46</td>\n",
       "      <td>57</td>\n",
       "      <td>158.75</td>\n",
       "      <td>3.37</td>\n",
       "    </tr>\n",
       "    <tr>\n",
       "      <th>3</th>\n",
       "      <td>1.21</td>\n",
       "      <td>48</td>\n",
       "      <td>30.46</td>\n",
       "      <td>60</td>\n",
       "      <td>137.71</td>\n",
       "      <td>3.37</td>\n",
       "    </tr>\n",
       "    <tr>\n",
       "      <th>4</th>\n",
       "      <td>1.17</td>\n",
       "      <td>48</td>\n",
       "      <td>30.46</td>\n",
       "      <td>62</td>\n",
       "      <td>104.95</td>\n",
       "      <td>5.62</td>\n",
       "    </tr>\n",
       "    <tr>\n",
       "      <th>...</th>\n",
       "      <td>...</td>\n",
       "      <td>...</td>\n",
       "      <td>...</td>\n",
       "      <td>...</td>\n",
       "      <td>...</td>\n",
       "      <td>...</td>\n",
       "    </tr>\n",
       "    <tr>\n",
       "      <th>32681</th>\n",
       "      <td>1.22</td>\n",
       "      <td>44</td>\n",
       "      <td>30.43</td>\n",
       "      <td>102</td>\n",
       "      <td>145.42</td>\n",
       "      <td>6.75</td>\n",
       "    </tr>\n",
       "    <tr>\n",
       "      <th>32682</th>\n",
       "      <td>1.17</td>\n",
       "      <td>44</td>\n",
       "      <td>30.42</td>\n",
       "      <td>102</td>\n",
       "      <td>117.78</td>\n",
       "      <td>6.75</td>\n",
       "    </tr>\n",
       "    <tr>\n",
       "      <th>32683</th>\n",
       "      <td>1.20</td>\n",
       "      <td>44</td>\n",
       "      <td>30.42</td>\n",
       "      <td>102</td>\n",
       "      <td>145.19</td>\n",
       "      <td>9.00</td>\n",
       "    </tr>\n",
       "    <tr>\n",
       "      <th>32684</th>\n",
       "      <td>1.23</td>\n",
       "      <td>44</td>\n",
       "      <td>30.42</td>\n",
       "      <td>101</td>\n",
       "      <td>164.19</td>\n",
       "      <td>7.87</td>\n",
       "    </tr>\n",
       "    <tr>\n",
       "      <th>32685</th>\n",
       "      <td>1.20</td>\n",
       "      <td>44</td>\n",
       "      <td>30.43</td>\n",
       "      <td>101</td>\n",
       "      <td>83.59</td>\n",
       "      <td>3.37</td>\n",
       "    </tr>\n",
       "  </tbody>\n",
       "</table>\n",
       "<p>32686 rows × 6 columns</p>\n",
       "</div>"
      ],
      "text/plain": [
       "       Radiation  Temperature  Pressure  Humidity  WindDirection(Degrees)  \\\n",
       "0           1.21           48     30.46        59                  177.39   \n",
       "1           1.21           48     30.46        58                  176.78   \n",
       "2           1.23           48     30.46        57                  158.75   \n",
       "3           1.21           48     30.46        60                  137.71   \n",
       "4           1.17           48     30.46        62                  104.95   \n",
       "...          ...          ...       ...       ...                     ...   \n",
       "32681       1.22           44     30.43       102                  145.42   \n",
       "32682       1.17           44     30.42       102                  117.78   \n",
       "32683       1.20           44     30.42       102                  145.19   \n",
       "32684       1.23           44     30.42       101                  164.19   \n",
       "32685       1.20           44     30.43       101                   83.59   \n",
       "\n",
       "       Speed  \n",
       "0       5.62  \n",
       "1       3.37  \n",
       "2       3.37  \n",
       "3       3.37  \n",
       "4       5.62  \n",
       "...      ...  \n",
       "32681   6.75  \n",
       "32682   6.75  \n",
       "32683   9.00  \n",
       "32684   7.87  \n",
       "32685   3.37  \n",
       "\n",
       "[32686 rows x 6 columns]"
      ]
     },
     "execution_count": 29,
     "metadata": {},
     "output_type": "execute_result"
    }
   ],
   "source": [
    "df"
   ]
  },
  {
   "cell_type": "code",
   "execution_count": 30,
   "id": "5ec65639",
   "metadata": {},
   "outputs": [
    {
     "data": {
      "text/plain": [
       "Index(['Radiation', 'Temperature', 'Pressure', 'Humidity',\n",
       "       'WindDirection(Degrees)', 'Speed'],\n",
       "      dtype='object')"
      ]
     },
     "execution_count": 30,
     "metadata": {},
     "output_type": "execute_result"
    }
   ],
   "source": [
    "df.columns"
   ]
  },
  {
   "cell_type": "code",
   "execution_count": null,
   "id": "3e29fb91",
   "metadata": {},
   "outputs": [],
   "source": []
  }
 ],
 "metadata": {
  "colab": {
   "name": "WUR_MODELLING.ipynb",
   "provenance": []
  },
  "kernelspec": {
   "display_name": "Python 3",
   "language": "python",
   "name": "python3"
  },
  "language_info": {
   "codemirror_mode": {
    "name": "ipython",
    "version": 3
   },
   "file_extension": ".py",
   "mimetype": "text/x-python",
   "name": "python",
   "nbconvert_exporter": "python",
   "pygments_lexer": "ipython3",
   "version": "3.8.8"
  }
 },
 "nbformat": 4,
 "nbformat_minor": 5
}
